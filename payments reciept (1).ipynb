{
 "cells": [
  {
   "cell_type": "code",
   "execution_count": 1,
   "id": "323e391a-2c6b-48d9-8170-6f9c6cab2987",
   "metadata": {},
   "outputs": [
    {
     "name": "stdout",
     "output_type": "stream",
     "text": [
      "Requirement already satisfied: reportlab in c:\\users\\user\\anaconda3\\lib\\site-packages (4.2.5)\n",
      "Requirement already satisfied: pillow>=9.0.0 in c:\\users\\user\\anaconda3\\lib\\site-packages (from reportlab) (10.3.0)\n",
      "Requirement already satisfied: chardet in c:\\users\\user\\anaconda3\\lib\\site-packages (from reportlab) (4.0.0)\n"
     ]
    }
   ],
   "source": [
    "!pip install reportlab\n"
   ]
  },
  {
   "cell_type": "code",
   "execution_count": 9,
   "id": "aa700bd6-d5c9-4135-9a16-8f0b7ec44225",
   "metadata": {},
   "outputs": [
    {
     "name": "stdout",
     "output_type": "stream",
     "text": [
      "PDF generated successfully.\n"
     ]
    }
   ],
   "source": [
    "from reportlab.platypus import SimpleDocTemplate, Table, Paragraph, TableStyle \n",
    "from reportlab.lib import colors \n",
    "from reportlab.lib.pagesizes import A4 \n",
    "from reportlab.lib.styles import getSampleStyleSheet \n",
    "\n",
    "DATA = [ \n",
    "    [\"Date\", \"Name\", \"Subscription\", \"Price (Rs.)\"], \n",
    "    [\"16/11/2020\", \"Full Stack Development with React & Node JS - Live\", \"Lifetime\", \"10,999.00/-\"], \n",
    "    [\"16/11/2020\", \"Learn Unconditionally\", \"6 months\", \"9,999.00/-\"], \n",
    "    [\"Sub Total\", \"\", \"\", \"20,998.00/-\"],  # Corrected subtotal\n",
    "    [\"Discount\", \"\", \"\", \"-3,000.00/-\"], \n",
    "    [\"Total\", \"\", \"\", \"17,998.00/-\"], \n",
    "] \n",
    "\n",
    "pdf = SimpleDocTemplate(\"receipt.pdf\", pagesize=A4) \n",
    "styles = getSampleStyleSheet() \n",
    "title_style = styles[\"Heading1\"] \n",
    "title_style.alignment = 1 \n",
    "title = Paragraph(\"GeeksforGeeks\", title_style) \n",
    "\n",
    "style = TableStyle( \n",
    "    [ \n",
    "        (\"BOX\", (0, 0), (-1, -1), 1, colors.black), \n",
    "        (\"GRID\", (0, 0), (4, 4), 1, colors.black), \n",
    "        (\"BACKGROUND\", (0, 0), (3, 0), colors.gray), \n",
    "        (\"TEXTCOLOR\", (0, 0), (-1, 0), colors.whitesmoke), \n",
    "        (\"ALIGN\", (0, 0), (-1, -1), \"CENTER\"), \n",
    "        (\"BACKGROUND\", (0, 1), (-1, -1), colors.beige), \n",
    "    ] \n",
    ") \n",
    "\n",
    "table = Table(DATA, style=style) \n",
    "pdf.build([title, table]) \n",
    "\n",
    "print(\"PDF generated successfully.\")"
   ]
  },
  {
   "cell_type": "code",
   "execution_count": null,
   "id": "b1bbf67d-c1ba-4729-8020-f51db1900941",
   "metadata": {},
   "outputs": [],
   "source": []
  }
 ],
 "metadata": {
  "kernelspec": {
   "display_name": "Python 3 (ipykernel)",
   "language": "python",
   "name": "python3"
  },
  "language_info": {
   "codemirror_mode": {
    "name": "ipython",
    "version": 3
   },
   "file_extension": ".py",
   "mimetype": "text/x-python",
   "name": "python",
   "nbconvert_exporter": "python",
   "pygments_lexer": "ipython3",
   "version": "3.12.4"
  }
 },
 "nbformat": 4,
 "nbformat_minor": 5
}
